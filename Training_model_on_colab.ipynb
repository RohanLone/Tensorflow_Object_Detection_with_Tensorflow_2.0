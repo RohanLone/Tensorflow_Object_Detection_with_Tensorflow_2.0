{
  "nbformat": 4,
  "nbformat_minor": 0,
  "metadata": {
    "colab": {
      "name": "Copy of training_tf2_object_detection.ipynb",
      "provenance": [],
      "collapsed_sections": []
    },
    "kernelspec": {
      "name": "python3",
      "display_name": "Python 3"
    },
    "language_info": {
      "name": "python"
    },
    "accelerator": "GPU"
  },
  "cells": [
    {
      "cell_type": "code",
      "metadata": {
        "id": "OdU8Xjf-bnxe"
      },
      "source": [
        "#!unzip '/content/drive/MyDrive/tf2/object_detection.zip' -d '/content/drive/MyDrive/tf2/'"
      ],
      "execution_count": null,
      "outputs": []
    },
    {
      "cell_type": "code",
      "metadata": {
        "id": "gmxGlSI7ktw2"
      },
      "source": [
        "!pip install tf-models-official\n",
        "!pip install tf_slim"
      ],
      "execution_count": null,
      "outputs": []
    },
    {
      "cell_type": "code",
      "metadata": {
        "colab": {
          "base_uri": "https://localhost:8080/"
        },
        "id": "jVxVyu8Ym1cd",
        "outputId": "669646d6-c525-498f-83d7-b6e869e32d37"
      },
      "source": [
        "%cd '/content/drive/MyDrive/tf2/object_detection/'"
      ],
      "execution_count": null,
      "outputs": [
        {
          "output_type": "stream",
          "text": [
            "/content/drive/MyDrive/tf2/object_detection\n"
          ],
          "name": "stdout"
        }
      ]
    },
    {
      "cell_type": "code",
      "metadata": {
        "id": "2Fpp7O4rnOoF"
      },
      "source": [
        "!python model_main_tf2.py --pipeline_config_path=training/ssd_mobilenet_v2_320x320_coco17_tpu-8.config --model_dir=training --alsologtostderr"
      ],
      "execution_count": null,
      "outputs": []
    },
    {
      "cell_type": "code",
      "metadata": {
        "id": "PNYBkn7GvlvL"
      },
      "source": [
        "!python exporter_main_v2.py --trained_checkpoint_dir=training --pipeline_config_path=training/ssd_mobilenet_v2_320x320_coco17_tpu-8.config --output_directory inference_graph"
      ],
      "execution_count": null,
      "outputs": []
    }
  ]
}